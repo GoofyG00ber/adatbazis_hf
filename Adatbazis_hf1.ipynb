{
    "metadata": {
        "kernelspec": {
            "name": "SQL",
            "display_name": "SQL",
            "language": "sql"
        },
        "language_info": {
            "name": "sql",
            "version": ""
        }
    },
    "nbformat_minor": 2,
    "nbformat": 4,
    "cells": [
        {
            "cell_type": "markdown",
            "source": [
                "Diakmunka adatbazis munka tábla"
            ],
            "metadata": {
                "azdata_cell_guid": "a1fffcbc-6655-4dfe-8d1b-abc6c093f9ea"
            },
            "attachments": {}
        },
        {
            "cell_type": "code",
            "source": [
                "select min(oradij) as 'Minimum óradíj',\r\n",
                "AVG(oradij) as 'Átlag óradíj',\r\n",
                "MAX(oradij) as 'Maximum óradíj'\r\n",
                "from munka\r\n",
                "where oradij is not null"
            ],
            "metadata": {
                "azdata_cell_guid": "81dde432-2fcd-425a-8555-aa76ef5d509d",
                "language": "sql"
            },
            "outputs": [
                {
                    "output_type": "display_data",
                    "data": {
                        "text/html": "(1 row affected)"
                    },
                    "metadata": {}
                },
                {
                    "output_type": "display_data",
                    "data": {
                        "text/html": "Total execution time: 00:00:00.083"
                    },
                    "metadata": {}
                },
                {
                    "output_type": "execute_result",
                    "execution_count": 3,
                    "data": {
                        "application/vnd.dataresource+json": {
                            "schema": {
                                "fields": [
                                    {
                                        "name": "Minimum óradíj"
                                    },
                                    {
                                        "name": "Átlag óradíj"
                                    },
                                    {
                                        "name": "Maximum óradíj"
                                    }
                                ]
                            },
                            "data": [
                                {
                                    "Minimum óradíj": "200",
                                    "Átlag óradíj": "346",
                                    "Maximum óradíj": "500"
                                }
                            ]
                        },
                        "text/html": "<table><tr><th>Minimum óradíj</th><th>Átlag óradíj</th><th>Maximum óradíj</th></tr><tr><td>200</td><td>346</td><td>500</td></tr></table>"
                    },
                    "metadata": {}
                }
            ],
            "execution_count": 3
        },
        {
            "cell_type": "code",
            "source": [
                "select allas,\r\n",
                "min(oradij) as 'Álláshoz tartozó minimum óradíj',\r\n",
                "AVG(oradij) as 'Álláshoz tartozó átlag óradíj',\r\n",
                "MAX(oradij) as 'Álláshoz tartozó maximum óradíj'\r\n",
                "from munka\r\n",
                "group by allas\r\n",
                "order by max(oradij) desc"
            ],
            "metadata": {
                "language": "sql",
                "azdata_cell_guid": "13513b10-7033-4537-975c-5738747727bc"
            },
            "outputs": [
                {
                    "output_type": "display_data",
                    "data": {
                        "text/html": "(9 rows affected)"
                    },
                    "metadata": {}
                },
                {
                    "output_type": "display_data",
                    "data": {
                        "text/html": "Total execution time: 00:00:00.442"
                    },
                    "metadata": {}
                },
                {
                    "output_type": "execute_result",
                    "metadata": {},
                    "execution_count": 25,
                    "data": {
                        "application/vnd.dataresource+json": {
                            "schema": {
                                "fields": [
                                    {
                                        "name": "allas"
                                    },
                                    {
                                        "name": "Álláshoz tartozó minimum óradíj"
                                    },
                                    {
                                        "name": "Álláshoz tartozó átlag óradíj"
                                    },
                                    {
                                        "name": "Álláshoz tartozó maximum óradíj"
                                    }
                                ]
                            },
                            "data": [
                                {
                                    "allas": "eladó",
                                    "Álláshoz tartozó minimum óradíj": "300",
                                    "Álláshoz tartozó átlag óradíj": "387",
                                    "Álláshoz tartozó maximum óradíj": "500"
                                },
                                {
                                    "allas": "kisegítő",
                                    "Álláshoz tartozó minimum óradíj": "300",
                                    "Álláshoz tartozó átlag óradíj": "350",
                                    "Álláshoz tartozó maximum óradíj": "500"
                                },
                                {
                                    "allas": "pincér",
                                    "Álláshoz tartozó minimum óradíj": "450",
                                    "Álláshoz tartozó átlag óradíj": "450",
                                    "Álláshoz tartozó maximum óradíj": "450"
                                },
                                {
                                    "allas": "kézbesítő",
                                    "Álláshoz tartozó minimum óradíj": "400",
                                    "Álláshoz tartozó átlag óradíj": "425",
                                    "Álláshoz tartozó maximum óradíj": "450"
                                },
                                {
                                    "allas": "ruhatáros",
                                    "Álláshoz tartozó minimum óradíj": "200",
                                    "Álláshoz tartozó átlag óradíj": "266",
                                    "Álláshoz tartozó maximum óradíj": "400"
                                },
                                {
                                    "allas": "takarító",
                                    "Álláshoz tartozó minimum óradíj": "250",
                                    "Álláshoz tartozó átlag óradíj": "333",
                                    "Álláshoz tartozó maximum óradíj": "400"
                                },
                                {
                                    "allas": "ügyfélszolgálati munkatárs",
                                    "Álláshoz tartozó minimum óradíj": "300",
                                    "Álláshoz tartozó átlag óradíj": "300",
                                    "Álláshoz tartozó maximum óradíj": "300"
                                },
                                {
                                    "allas": "raktáros",
                                    "Álláshoz tartozó minimum óradíj": "300",
                                    "Álláshoz tartozó átlag óradíj": "300",
                                    "Álláshoz tartozó maximum óradíj": "300"
                                },
                                {
                                    "allas": "futár",
                                    "Álláshoz tartozó minimum óradíj": "300",
                                    "Álláshoz tartozó átlag óradíj": "300",
                                    "Álláshoz tartozó maximum óradíj": "300"
                                }
                            ]
                        },
                        "text/html": [
                            "<table>",
                            "<tr><th>allas</th><th>Álláshoz tartozó minimum óradíj</th><th>Álláshoz tartozó átlag óradíj</th><th>Álláshoz tartozó maximum óradíj</th></tr>",
                            "<tr><td>eladó</td><td>300</td><td>387</td><td>500</td></tr>",
                            "<tr><td>kisegítő</td><td>300</td><td>350</td><td>500</td></tr>",
                            "<tr><td>pincér</td><td>450</td><td>450</td><td>450</td></tr>",
                            "<tr><td>kézbesítő</td><td>400</td><td>425</td><td>450</td></tr>",
                            "<tr><td>ruhatáros</td><td>200</td><td>266</td><td>400</td></tr>",
                            "<tr><td>takarító</td><td>250</td><td>333</td><td>400</td></tr>",
                            "<tr><td>ügyfélszolgálati munkatárs</td><td>300</td><td>300</td><td>300</td></tr>",
                            "<tr><td>raktáros</td><td>300</td><td>300</td><td>300</td></tr>",
                            "<tr><td>futár</td><td>300</td><td>300</td><td>300</td></tr>",
                            "</table>"
                        ]
                    }
                }
            ],
            "execution_count": 25
        },
        {
            "cell_type": "code",
            "source": [
                "select allas, count(allas) as 'Állás gyakorisága'\r\n",
                "from munka\r\n",
                "group by allas\r\n",
                "order by count(allas) desc"
            ],
            "metadata": {
                "language": "sql",
                "azdata_cell_guid": "97e3b41b-2cce-40e8-994f-02d4e8ca02c3"
            },
            "outputs": [
                {
                    "output_type": "display_data",
                    "data": {
                        "text/html": "(9 rows affected)"
                    },
                    "metadata": {}
                },
                {
                    "output_type": "display_data",
                    "data": {
                        "text/html": "Total execution time: 00:00:00.032"
                    },
                    "metadata": {}
                },
                {
                    "output_type": "execute_result",
                    "metadata": {},
                    "execution_count": 7,
                    "data": {
                        "application/vnd.dataresource+json": {
                            "schema": {
                                "fields": [
                                    {
                                        "name": "allas"
                                    },
                                    {
                                        "name": "Állás gyakorisága"
                                    }
                                ]
                            },
                            "data": [
                                {
                                    "allas": "eladó",
                                    "Állás gyakorisága": "12"
                                },
                                {
                                    "allas": "takarító",
                                    "Állás gyakorisága": "9"
                                },
                                {
                                    "allas": "ruhatáros",
                                    "Állás gyakorisága": "6"
                                },
                                {
                                    "allas": "raktáros",
                                    "Állás gyakorisága": "4"
                                },
                                {
                                    "allas": "kisegítő",
                                    "Állás gyakorisága": "4"
                                },
                                {
                                    "allas": "pincér",
                                    "Állás gyakorisága": "2"
                                },
                                {
                                    "allas": "kézbesítő",
                                    "Állás gyakorisága": "2"
                                },
                                {
                                    "allas": "ügyfélszolgálati munkatárs",
                                    "Állás gyakorisága": "1"
                                },
                                {
                                    "allas": "futár",
                                    "Állás gyakorisága": "1"
                                }
                            ]
                        },
                        "text/html": [
                            "<table>",
                            "<tr><th>allas</th><th>Állás gyakorisága</th></tr>",
                            "<tr><td>eladó</td><td>12</td></tr>",
                            "<tr><td>takarító</td><td>9</td></tr>",
                            "<tr><td>ruhatáros</td><td>6</td></tr>",
                            "<tr><td>raktáros</td><td>4</td></tr>",
                            "<tr><td>kisegítő</td><td>4</td></tr>",
                            "<tr><td>pincér</td><td>2</td></tr>",
                            "<tr><td>kézbesítő</td><td>2</td></tr>",
                            "<tr><td>ügyfélszolgálati munkatárs</td><td>1</td></tr>",
                            "<tr><td>futár</td><td>1</td></tr>",
                            "</table>"
                        ]
                    }
                }
            ],
            "execution_count": 7
        },
        {
            "cell_type": "code",
            "source": [
                "select count(oraszam) as 'Összes vállalt óraszám',\r\n",
                "case\r\n",
                "    when kozepiskolas = 1 then 'Középiskolás'\r\n",
                "    when kozepiskolas = 0 then 'Nem középiskolás'\r\n",
                "end as 'tanul-e'\r\n",
                "from munka\r\n",
                "group by rollup(kozepiskolas)\r\n",
                ""
            ],
            "metadata": {
                "azdata_cell_guid": "6224d758-51ae-419b-9b81-e62b0c783809",
                "language": "sql"
            },
            "outputs": [
                {
                    "output_type": "display_data",
                    "data": {
                        "text/html": "(3 rows affected)"
                    },
                    "metadata": {}
                },
                {
                    "output_type": "display_data",
                    "data": {
                        "text/html": "Total execution time: 00:00:00.345"
                    },
                    "metadata": {}
                },
                {
                    "output_type": "execute_result",
                    "metadata": {},
                    "execution_count": 27,
                    "data": {
                        "application/vnd.dataresource+json": {
                            "schema": {
                                "fields": [
                                    {
                                        "name": "Összes vállalt óraszám"
                                    },
                                    {
                                        "name": "tanul-e"
                                    }
                                ]
                            },
                            "data": [
                                {
                                    "Összes vállalt óraszám": "25",
                                    "tanul-e": "Nem középiskolás"
                                },
                                {
                                    "Összes vállalt óraszám": "16",
                                    "tanul-e": "Középiskolás"
                                },
                                {
                                    "Összes vállalt óraszám": "41",
                                    "tanul-e": "NULL"
                                }
                            ]
                        },
                        "text/html": [
                            "<table>",
                            "<tr><th>Összes vállalt óraszám</th><th>tanul-e</th></tr>",
                            "<tr><td>25</td><td>Nem középiskolás</td></tr>",
                            "<tr><td>16</td><td>Középiskolás</td></tr>",
                            "<tr><td>41</td><td>NULL</td></tr>",
                            "</table>"
                        ]
                    }
                }
            ],
            "execution_count": 27
        },
        {
            "cell_type": "code",
            "source": [
                "SELECT \r\n",
                "    COUNT(IIF(DiakAz IS NULL, 1, NULL)) AS 'Null értékek száma', \r\n",
                "    COUNT(IIF(DiakAz IS NULL, 1, NULL)) / CAST(COUNT(*) AS FLOAT) * 100 AS 'Null értékek százalékos aránya' \r\n",
                "FROM \r\n",
                "    munka;\r\n",
                ""
            ],
            "metadata": {
                "language": "sql",
                "azdata_cell_guid": "ef060369-b6a2-4f6b-809b-fabbd071823a"
            },
            "outputs": [
                {
                    "output_type": "display_data",
                    "data": {
                        "text/html": "Warning: Null value is eliminated by an aggregate or other SET operation."
                    },
                    "metadata": {}
                },
                {
                    "output_type": "display_data",
                    "data": {
                        "text/html": "(1 row affected)"
                    },
                    "metadata": {}
                },
                {
                    "output_type": "display_data",
                    "data": {
                        "text/html": "Total execution time: 00:00:00.031"
                    },
                    "metadata": {}
                },
                {
                    "output_type": "execute_result",
                    "metadata": {},
                    "execution_count": 56,
                    "data": {
                        "application/vnd.dataresource+json": {
                            "schema": {
                                "fields": [
                                    {
                                        "name": "Null értékek száma"
                                    },
                                    {
                                        "name": "Null értékek százalékos aránya"
                                    }
                                ]
                            },
                            "data": [
                                {
                                    "Null értékek száma": "10",
                                    "Null értékek százalékos aránya": "24,390243902439025"
                                }
                            ]
                        },
                        "text/html": [
                            "<table>",
                            "<tr><th>Null értékek száma</th><th>Null értékek százalékos aránya</th></tr>",
                            "<tr><td>10</td><td>24,390243902439025</td></tr>",
                            "</table>"
                        ]
                    }
                }
            ],
            "execution_count": 56
        }
    ]
}